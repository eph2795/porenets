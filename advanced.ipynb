{
 "cells": [
  {
   "cell_type": "code",
   "execution_count": 15,
   "metadata": {},
   "outputs": [],
   "source": [
    "import scipy as sp\n",
    "import openpnm as op\n",
    "ws = op.Workspace()\n",
    "ws.settings['loglevel'] = 40\n",
    "pn = op.network.Cubic(shape=[10, 10, 10], spacing=0.0001, name='net')"
   ]
  },
  {
   "cell_type": "code",
   "execution_count": 1,
   "metadata": {},
   "outputs": [],
   "source": [
    "from skimage.morphology import disk, ball"
   ]
  },
  {
   "cell_type": "code",
   "execution_count": 16,
   "metadata": {},
   "outputs": [
    {
     "data": {
      "text/plain": [
       "dict_keys(['pore.all', 'throat.all', 'pore.coords', 'throat.conns', 'pore.internal', 'throat.internal', 'pore.surface', 'pore.front', 'pore.back', 'pore.left', 'pore.right', 'pore.top', 'pore.bottom', 'throat.surface'])"
      ]
     },
     "execution_count": 16,
     "metadata": {},
     "output_type": "execute_result"
    }
   ],
   "source": [
    "pn.keys()"
   ]
  },
  {
   "cell_type": "markdown",
   "metadata": {},
   "source": [
    "## Adding Boundary Pores\n",
    "\n",
    "When performing transport simulations it is often useful to have 'boundary' pores attached to the surface(s) of the network where boundary conditions can be applied.  When using the **Cubic** class, two methods are available for doing this: ``add_boundaries``, which is specific for the **Cubic** class, and ``add_boundary_pores``, which is a generic method that can also be used on other network types and which is inherited from **GenericNetwork**.  The first method automatically adds boundaries to ALL six faces of the network and offsets them from the network by 1/2 of the value provided as the network ``spacing``.  The second method provides total control over which boundary pores are created and where they are positioned, but requires the user to specify to which pores the boundary pores should be attached to.  Let's explore these two options:"
   ]
  },
  {
   "cell_type": "code",
   "execution_count": 2,
   "metadata": {},
   "outputs": [],
   "source": [
    "pn.add_boundary_pores(labels=['left', 'right'])"
   ]
  },
  {
   "cell_type": "code",
   "execution_count": 5,
   "metadata": {},
   "outputs": [],
   "source": [
    "# fig = op.topotools.plot_connections(pn, c='r')\n",
    "# fig = op.topotools.plot_coordinates(pn, c='b', fig=fig)\n",
    "# fig.set_size_inches([10, 10])"
   ]
  },
  {
   "cell_type": "code",
   "execution_count": 6,
   "metadata": {},
   "outputs": [],
   "source": [
    "Ps = pn.pores('*boundary', mode='not')\n",
    "Ts = pn.throats('*boundary', mode='not')\n",
    "geom = op.geometry.StickAndBall(network=pn, pores=Ps, throats=Ts, name='intern')"
   ]
  },
  {
   "cell_type": "code",
   "execution_count": 7,
   "metadata": {},
   "outputs": [],
   "source": [
    "Ps = pn.pores('*boundary')\n",
    "Ts = pn.throats('*boundary')\n",
    "boun = op.geometry.GenericGeometry(network=pn, pores=Ps, throats=Ts, name='boun')"
   ]
  },
  {
   "cell_type": "markdown",
   "metadata": {},
   "source": [
    "The **StickAndBall** class is preloaded with the pore-scale models to calculate all the necessary size information (pore diameter, pore.volume, throat lengths, throat.diameter, etc).  The **GenericGeometry** class used for the boundary pores is empty and requires work. Throat properties like length and diameter are used in OpenPNM's algorithms (e.g., drainage) a small value (0.001 nm) should be set to all of them. "
   ]
  },
  {
   "cell_type": "code",
   "execution_count": 3,
   "metadata": {},
   "outputs": [],
   "source": [
    "geom = op.geometry.StickAndBall(network=pn, pores=pn.Ps, throats=pn.Ts)\n",
    "\n",
    "water = op.phases.Water(network=pn)\n",
    "water.add_model(propname='throat.entry_pressure',\n",
    "                 model=op.models.physics.capillary_pressure.washburn)"
   ]
  },
  {
   "cell_type": "code",
   "execution_count": 6,
   "metadata": {},
   "outputs": [],
   "source": [
    "Ps = pn.pores(labels=['left'])"
   ]
  },
  {
   "cell_type": "code",
   "execution_count": 4,
   "metadata": {},
   "outputs": [],
   "source": [
    "ip = op.algorithms.InvasionPercolation(network=pn)"
   ]
  },
  {
   "cell_type": "code",
   "execution_count": 8,
   "metadata": {},
   "outputs": [],
   "source": [
    "ip.setup(phase=water)\n",
    "ip.set_inlets(pores=Ps)\n",
    "ip.run()"
   ]
  },
  {
   "cell_type": "code",
   "execution_count": 13,
   "metadata": {},
   "outputs": [],
   "source": [
    "import openpnm as op\n",
    "ws = op.Workspace()\n",
    "proj = ws.new_project()\n",
    "pn = op.network.Cubic(shape=[10, 10, 10], project=proj, spacing=1e-4)\n",
    "geom = op.geometry.StickAndBall(network=pn, pores=pn.Ps, throats=pn.Ts)\n",
    "geom['pore.volume'][pn.pores('left')] = 0\n",
    "hg = op.phases.Mercury(network=pn)\n",
    "phys = op.physics.GenericPhysics(network=pn, phase=hg, geometry=geom)\n",
    "phys.add_model(propname='throat.entry_pressure',\n",
    "               model=op.models.physics.capillary_pressure.washburn)\n",
    "phys.add_model(propname='pore.pc_star',\n",
    "               model=op.models.misc.from_neighbor_throats,\n",
    "               throat_prop='throat.entry_pressure',\n",
    "               mode='min')\n",
    "phys.add_model(propname='pore.late_filling',\n",
    "               model=op.models.physics.multiphase.late_filling,\n",
    "               pressure='pore.pressure',\n",
    "               Pc_star='pore.pc_star',\n",
    "               eta=1, Swp_star=0.4,\n",
    "               regen_mode='deferred')\n",
    "phys['throat.pc_star'] = phys['throat.entry_pressure']\n",
    "phys.add_model(propname='throat.late_filling',\n",
    "               model=op.models.physics.multiphase.late_filling,\n",
    "               pressure='throat.pressure',\n",
    "               Pc_star='throat.pc_star',\n",
    "               eta=1, Swp_star=0.2,\n",
    "               regen_mode='deferred')\n",
    "mip = op.algorithms.Porosimetry(project=proj)\n",
    "mip.setup(phase=hg)\n",
    "mip.set_partial_filling(propname='pore.late_filling')\n",
    "mip.set_inlets(pores=pn.pores('bottom'))\n",
    "mip.run(points=20, stop=1e7)"
   ]
  },
  {
   "cell_type": "code",
   "execution_count": 14,
   "metadata": {},
   "outputs": [
    {
     "data": {
      "image/png": "[encoded data removed]",
      "text/plain": [
       "<Figure size 432x288 with 1 Axes>"
      ]
     },
     "execution_count": 14,
     "metadata": {},
     "output_type": "execute_result"
    },
    {
     "data": {
      "image/png": "[encoded data removed]",
      "text/plain": [
       "<Figure size 432x288 with 1 Axes>"
      ]
     },
     "metadata": {
      "needs_background": "light"
     },
     "output_type": "display_data"
    }
   ],
   "source": [
    "mip.plot_intrusion_curve()"
   ]
  },
  {
   "cell_type": "code",
   "execution_count": 12,
   "metadata": {},
   "outputs": [
    {
     "data": {
      "text/plain": [
       "{'pore.invasion_sequence': array([   0,    0,    0, ..., 2488, 1202, 2784]),\n",
       " 'throat.invasion_sequence': array([2536, 2539, 1839, ..., 2488, 1202, 2784])}"
      ]
     },
     "execution_count": 12,
     "metadata": {},
     "output_type": "execute_result"
    }
   ],
   "source": [
    "ip.results()"
   ]
  },
  {
   "cell_type": "code",
   "execution_count": 4,
   "metadata": {},
   "outputs": [],
   "source": [
    "geom = op.geometry.StickAndBall(network=pn, pores=pn.Ps, throats=pn.Ts)"
   ]
  },
  {
   "cell_type": "code",
   "execution_count": null,
   "metadata": {},
   "outputs": [],
   "source": []
  },
  {
   "cell_type": "code",
   "execution_count": null,
   "metadata": {},
   "outputs": [],
   "source": [
    "inv = op.algorithms.Drainage(network=pn)\n",
    "inv.setup(invading_phase=water, defending_phase=air)\n",
    "inv.set_inlets(pores=pn.pores(['top', 'bottom']))\n",
    "inv.run()"
   ]
  },
  {
   "cell_type": "code",
   "execution_count": 20,
   "metadata": {},
   "outputs": [],
   "source": [
    "import openpnm as op\n",
    "import scipy as sp\n",
    "import matplotlib.pyplot as plt\n",
    "\n",
    "\n",
    "S = sp.array([100, 100, 1])\n",
    "pn = op.network.Cubic(shape=S, spacing=0.0001, name='pn11')\n",
    "\n",
    "geom = op.geometry.StickAndBall(network=pn, pores=pn.Ps, throats=pn.Ts)\n",
    "\n",
    "water = op.phases.Water(network=pn)\n",
    "water.add_model(propname='throat.entry_pressure',\n",
    "                 model=op.models.physics.capillary_pressure.washburn)"
   ]
  },
  {
   "cell_type": "code",
   "execution_count": 22,
   "metadata": {},
   "outputs": [],
   "source": [
    "ip = op.algorithms.InvasionPercolation(network=pn)\n",
    "ip.setup(phase=water)\n",
    "ip.set_inlets(pores=0)\n",
    "ip.run()"
   ]
  },
  {
   "cell_type": "code",
   "execution_count": null,
   "metadata": {},
   "outputs": [],
   "source": []
  },
  {
   "cell_type": "code",
   "execution_count": 25,
   "metadata": {},
   "outputs": [],
   "source": [
    "water.update(ip.results(Snwp=0.5))"
   ]
  },
  {
   "cell_type": "code",
   "execution_count": 32,
   "metadata": {},
   "outputs": [
    {
     "data": {
      "text/plain": [
       "{'pore.occupancy': array([ True,  True,  True, ...,  True, False, False]),\n",
       " 'throat.occupancy': array([ True,  True,  True, ...,  True, False, False])}"
      ]
     },
     "execution_count": 32,
     "metadata": {},
     "output_type": "execute_result"
    }
   ],
   "source": [
    "ip.results(Snwp=0.5)"
   ]
  },
  {
   "cell_type": "code",
   "execution_count": null,
   "metadata": {},
   "outputs": [],
   "source": [
    "ip."
   ]
  },
  {
   "cell_type": "code",
   "execution_count": 31,
   "metadata": {},
   "outputs": [
    {
     "data": {
      "text/plain": [
       "dict_keys(['pore.all', 'throat.all', 'pore.temperature', 'pore.pressure', 'pore.molecular_weight', 'pore.critical_pressure', 'pore.critical_temperature', 'pore.critical_volume', 'pore.contact_angle', 'pore.electrical_conductivity', 'pore.diffusivity', 'pore.density', 'pore.molar_density', 'pore.surface_tension', 'pore.thermal_conductivity', 'pore.vapor_pressure', 'pore.viscosity', 'throat.entry_pressure', 'pore.occupancy', 'throat.occupancy'])"
      ]
     },
     "execution_count": 31,
     "metadata": {},
     "output_type": "execute_result"
    }
   ],
   "source": [
    "water.keys()"
   ]
  },
  {
   "cell_type": "code",
   "execution_count": null,
   "metadata": {},
   "outputs": [],
   "source": []
  },
  {
   "cell_type": "code",
   "execution_count": 30,
   "metadata": {},
   "outputs": [
    {
     "data": {
      "text/plain": [
       "array([22064000., 22064000., 22064000., ..., 22064000., 22064000.,\n",
       "       22064000.])"
      ]
     },
     "execution_count": 30,
     "metadata": {},
     "output_type": "execute_result"
    }
   ],
   "source": [
    "water['pore.critical_pressure']"
   ]
  },
  {
   "cell_type": "code",
   "execution_count": 19,
   "metadata": {},
   "outputs": [],
   "source": [
    "algo = op.algorithms.GenericTransport()"
   ]
  },
  {
   "cell_type": "code",
   "execution_count": null,
   "metadata": {},
   "outputs": [],
   "source": [
    "algo.setup()"
   ]
  },
  {
   "cell_type": "code",
   "execution_count": 18,
   "metadata": {},
   "outputs": [
    {
     "data": {
      "text/plain": [
       "['AdvectionDiffusion',\n",
       " 'ChargeConservationNernstPlanck',\n",
       " 'Dispersion',\n",
       " 'FickianDiffusion',\n",
       " 'FourierConduction',\n",
       " 'GenericAlgorithm',\n",
       " 'GenericTransport',\n",
       " 'InvasionPercolation',\n",
       " 'MixedInvasionPercolation',\n",
       " 'NernstPlanck',\n",
       " 'NonNewtonianStokesFlow',\n",
       " 'OhmicConduction',\n",
       " 'OrdinaryPercolation',\n",
       " 'Porosimetry',\n",
       " 'ReactiveTransport',\n",
       " 'StokesFlow',\n",
       " 'TransientAdvectionDiffusion',\n",
       " 'TransientFickianDiffusion',\n",
       " 'TransientReactiveTransport',\n",
       " '__builtins__',\n",
       " '__cached__',\n",
       " '__doc__',\n",
       " '__file__',\n",
       " '__loader__',\n",
       " '__name__',\n",
       " '__package__',\n",
       " '__path__',\n",
       " '__spec__']"
      ]
     },
     "execution_count": 18,
     "metadata": {},
     "output_type": "execute_result"
    }
   ],
   "source": [
    "dir(op.algorithms)"
   ]
  },
  {
   "cell_type": "code",
   "execution_count": 5,
   "metadata": {},
   "outputs": [],
   "source": [
    "Hg = op.phases.Mercury(network=pn)\n",
    "phys = op.physics.Standard(network=pn, phase=Hg, geometry=geom)\n",
    "mip = op.algorithms.(network=pn)\n",
    "mip.setup(phase=Hg)\n",
    "mip.set_inlets(pores=pn.pores(['left', 'right']))\n",
    "mip.run()"
   ]
  },
  {
   "cell_type": "code",
   "execution_count": 6,
   "metadata": {},
   "outputs": [
    {
     "data": {
      "image/png": "[encoded data removed]",
      "text/plain": [
       "<Figure size 432x288 with 1 Axes>"
      ]
     },
     "execution_count": 6,
     "metadata": {},
     "output_type": "execute_result"
    },
    {
     "data": {
      "image/png": "[encoded data removed]",
      "text/plain": [
       "<Figure size 432x288 with 1 Axes>"
      ]
     },
     "metadata": {
      "needs_background": "light"
     },
     "output_type": "display_data"
    }
   ],
   "source": [
    "mip.plot_intrusion_curve()"
   ]
  },
  {
   "cell_type": "code",
   "execution_count": null,
   "metadata": {},
   "outputs": [],
   "source": []
  },
  {
   "cell_type": "code",
   "execution_count": 8,
   "metadata": {},
   "outputs": [],
   "source": [
    "Hg = op.phases.Mercury(network=pn)\n",
    "phys = op.physics.Standard(network=pn, phase=Hg, geometry=geom)\n",
    "mip = op.algorithms.Porosimetry(network=pn)"
   ]
  },
  {
   "cell_type": "code",
   "execution_count": 10,
   "metadata": {},
   "outputs": [
    {
     "data": {
      "text/plain": [
       "['pore.all', 'pore.back', 'pore.bottom', 'pore.bottom_boundary', 'pore.boun', 'pore.front', 'pore.geo_03', 'pore.intern', 'pore.internal', 'pore.left', 'pore.left_boundary', 'pore.right', 'pore.right_boundary', 'pore.surface', 'pore.top', 'pore.top_boundary', 'throat.all', 'throat.bottom_boundary', 'throat.boun', 'throat.geo_03', 'throat.intern', 'throat.internal', 'throat.left_boundary', 'throat.right_boundary', 'throat.surface', 'throat.top_boundary']"
      ]
     },
     "execution_count": 10,
     "metadata": {},
     "output_type": "execute_result"
    }
   ],
   "source": [
    "pn.labels()"
   ]
  },
  {
   "cell_type": "code",
   "execution_count": null,
   "metadata": {},
   "outputs": [],
   "source": [
    "mip.set_outlets(pores=['left', 'right', 'top', 'bottom'])\n",
    "mip.set_inlets(pores=[''])"
   ]
  },
  {
   "cell_type": "code",
   "execution_count": 15,
   "metadata": {},
   "outputs": [
    {
     "name": "stderr",
     "output_type": "stream",
     "text": [
      "/home/evlavrukhin/anaconda3/envs/py37_geo/lib/python3.7/site-packages/openpnm-2.1.0b1-py3.7.egg/openpnm/models/physics/hydraulic_conductance.py:526: RuntimeWarning: divide by zero encountered in true_divide\n",
      "  return (1/gt/SFt + 1/g1/SF1 + 1/g2/SF2)**(-1)\n",
      "/home/evlavrukhin/anaconda3/envs/py37_geo/lib/python3.7/site-packages/openpnm-2.1.0b1-py3.7.egg/openpnm/models/physics/diffusive_conductance.py:278: RuntimeWarning: divide by zero encountered in true_divide\n",
      "  return (1/gt/SFt + 1/g1/SF1 + 1/g2/SF2)**(-1)\n",
      "/home/evlavrukhin/anaconda3/envs/py37_geo/lib/python3.7/site-packages/openpnm-2.1.0b1-py3.7.egg/openpnm/models/physics/thermal_conductance.py:178: RuntimeWarning: divide by zero encountered in true_divide\n",
      "  return (1/gt/SFt + 1/g1/SF1 + 1/g2/SF2)**(-1)\n",
      "/home/evlavrukhin/anaconda3/envs/py37_geo/lib/python3.7/site-packages/openpnm-2.1.0b1-py3.7.egg/openpnm/models/physics/electrical_conductance.py:178: RuntimeWarning: divide by zero encountered in true_divide\n",
      "  return (1/gt/SFt + 1/g1/SF1 + 1/g2/SF2)**(-1)\n",
      "/home/evlavrukhin/anaconda3/envs/py37_geo/lib/python3.7/site-packages/openpnm-2.1.0b1-py3.7.egg/openpnm/algorithms/OrdinaryPercolation.py:405: RuntimeWarning: invalid value encountered in less_equal\n",
      "  t_invaded = self['throat.entry_pressure'] <= inv_val\n"
     ]
    }
   ],
   "source": [
    "mip.setup(phase=Hg)\n",
    "# mip.set_inlets(pores=pn.pores(['left', 'right', 'top', 'bottom']), overwrite=True)\n",
    "# mip.set_inlets(pores=Ps, overwrite=True)\n",
    "mip.run()"
   ]
  },
  {
   "cell_type": "code",
   "execution_count": 6,
   "metadata": {},
   "outputs": [],
   "source": [
    "boun['pore.diameter'] = 0\n",
    "boun['pore.volume'] = 0\n",
    "boun['throat.diameter'] = 1e-12\n",
    "boun['throat.length'] = 1e-12\n",
    "boun['throat.volume'] = sp.pi*boun['throat.diameter']**2/4*boun['throat.length']"
   ]
  },
  {
   "cell_type": "markdown",
   "metadata": {},
   "source": [
    "## Define Multiple Phase Objects\n",
    "\n",
    "In order to simulate relative permeability of air through a partially water-filled network, we need to create each **Phase** object.  OpenPNM includes pre-defined classes for each of these common fluids:"
   ]
  },
  {
   "cell_type": "code",
   "execution_count": 16,
   "metadata": {},
   "outputs": [
    {
     "name": "stderr",
     "output_type": "stream",
     "text": [
      "/home/evlavrukhin/anaconda3/envs/py37_geo/lib/python3.7/site-packages/openpnm-2.1.0b1-py3.7.egg/openpnm/algorithms/OrdinaryPercolation.py:518: RuntimeWarning: invalid value encountered in less_equal\n",
      "  Psatn = self['pore.invasion_pressure'] <= Pc\n",
      "/home/evlavrukhin/anaconda3/envs/py37_geo/lib/python3.7/site-packages/openpnm-2.1.0b1-py3.7.egg/openpnm/algorithms/OrdinaryPercolation.py:519: RuntimeWarning: invalid value encountered in less_equal\n",
      "  Tsatn = self['throat.invasion_pressure'] <= Pc\n"
     ]
    },
    {
     "data": {
      "image/png": "[encoded data removed]",
      "text/plain": [
       "<Figure size 432x288 with 1 Axes>"
      ]
     },
     "execution_count": 16,
     "metadata": {},
     "output_type": "execute_result"
    },
    {
     "data": {
      "image/png": "[encoded data removed]",
      "text/plain": [
       "<Figure size 432x288 with 1 Axes>"
      ]
     },
     "metadata": {
      "needs_background": "light"
     },
     "output_type": "display_data"
    }
   ],
   "source": [
    "mip.plot_intrusion_curve()"
   ]
  },
  {
   "cell_type": "code",
   "execution_count": null,
   "metadata": {},
   "outputs": [],
   "source": []
  },
  {
   "cell_type": "code",
   "execution_count": null,
   "metadata": {},
   "outputs": [],
   "source": []
  },
  {
   "cell_type": "code",
   "execution_count": 12,
   "metadata": {},
   "outputs": [],
   "source": [
    "air = op.phases.Air(network=pn)\n",
    "water = op.phases.Water(network=pn)\n",
    "water['throat.contact_angle'] = 110\n",
    "water['throat.surface_tension'] = 0.072"
   ]
  },
  {
   "cell_type": "code",
   "execution_count": 13,
   "metadata": {},
   "outputs": [],
   "source": [
    "phys = op.physics.Standard(network=pn, phase=water, geometry=geom)\n",
    "mip = op.algorithms.Porosimetry(network=pn)\n",
    "mip.setup(phase=water)\n",
    "mip.set_inlets(pores=pn.pores(['left', 'right', 'top', 'bottom']))\n",
    "mip.run()"
   ]
  },
  {
   "cell_type": "code",
   "execution_count": 14,
   "metadata": {},
   "outputs": [
    {
     "data": {
      "image/png": "[encoded data removed]",
      "text/plain": [
       "<Figure size 432x288 with 1 Axes>"
      ]
     },
     "execution_count": 14,
     "metadata": {},
     "output_type": "execute_result"
    },
    {
     "data": {
      "image/png": "[encoded data removed]",
      "text/plain": [
       "<Figure size 432x288 with 1 Axes>"
      ]
     },
     "metadata": {
      "needs_background": "light"
     },
     "output_type": "display_data"
    }
   ],
   "source": [
    "mip.plot_intrusion_curve()"
   ]
  },
  {
   "cell_type": "markdown",
   "metadata": {},
   "source": [
    "### Aside: Creating a Custom Phase Class\n",
    "\n",
    "In many cases you will want to create your own fluid, such as an oil or brine, which may be commonly used in your research.  OpenPNM cannot predict all the possible scenarios, but luckily it is easy to create a custom **Phase** class as follows:"
   ]
  },
  {
   "cell_type": "code",
   "execution_count": 11,
   "metadata": {},
   "outputs": [],
   "source": [
    "from openpnm.phases import GenericPhase\n",
    "\n",
    "class Oil(GenericPhase):\n",
    "    def __init__(self, **kwargs):\n",
    "        super().__init__(**kwargs)\n",
    "        self.add_model(propname='pore.viscosity',\n",
    "                       model=op.models.misc.polynomial,\n",
    "                       prop='pore.temperature',\n",
    "                       a=[1.82082e-2, 6.51E-04, -3.48E-7, 1.11E-10])\n",
    "        self['pore.molecular_weight'] = 116  # g/mol"
   ]
  },
  {
   "cell_type": "markdown",
   "metadata": {},
   "source": [
    "* Creating a **Phase** class basically involves placing a series of ``self.add_model`` commands within the ``__init__`` section of the class definition.  This means that when the class is instantiated, all the models are added to *itself* (i.e. ``self``).\n",
    "* ``**kwargs`` is a Python trick that captures all arguments in a *dict* called ``kwargs`` and passes them to another function that may need them.  In this case they are passed to the ``__init__`` method of **Oil**'s parent by the ``super`` function.  Specifically, things like ``name`` and ``network`` are expected.\n",
    "* The above code block also stores the molecular weight of the oil as a constant value\n",
    "* Adding models and constant values in this way could just as easily be done in a run script, but the advantage of defining a class is that it can be saved in a file (i.e. 'my_custom_phases') and reused in any project."
   ]
  },
  {
   "cell_type": "code",
   "execution_count": 12,
   "metadata": {},
   "outputs": [
    {
     "name": "stdout",
     "output_type": "stream",
     "text": [
      "――――――――――――――――――――――――――――――――――――――――――――――――――――――――――――――――――――――――――――――\n",
      "main : phase_03\n",
      "――――――――――――――――――――――――――――――――――――――――――――――――――――――――――――――――――――――――――――――\n",
      "#     Properties                                    Valid Values\n",
      "――――――――――――――――――――――――――――――――――――――――――――――――――――――――――――――――――――――――――――――\n",
      "1     pore.molecular_weight                          1180 / 1180 \n",
      "2     pore.pressure                                  1180 / 1180 \n",
      "3     pore.temperature                               1180 / 1180 \n",
      "4     pore.viscosity                                 1180 / 1180 \n",
      "――――――――――――――――――――――――――――――――――――――――――――――――――――――――――――――――――――――――――――――\n",
      "#     Labels                                        Assigned Locations\n",
      "――――――――――――――――――――――――――――――――――――――――――――――――――――――――――――――――――――――――――――――\n",
      "1     pore.all                                      1180      \n",
      "2     throat.all                                    2617      \n",
      "――――――――――――――――――――――――――――――――――――――――――――――――――――――――――――――――――――――――――――――\n"
     ]
    }
   ],
   "source": [
    "oil = Oil(network=pn)\n",
    "print(oil)"
   ]
  },
  {
   "cell_type": "markdown",
   "metadata": {},
   "source": [
    "## Define Physics Objects for Each Geometry and Each Phase\n",
    "\n",
    "In the tutorial #2 we created two **Physics** object, one for each of the two **Geometry** objects used to handle the stratified layers.  In this tutorial, the internal pores and the boundary pores each have their own **Geometry**, but there are two **Phases**, which also each require a unique **Physics**:"
   ]
  },
  {
   "cell_type": "code",
   "execution_count": 13,
   "metadata": {},
   "outputs": [],
   "source": [
    "phys_water_internal = op.physics.GenericPhysics(network=pn, phase=water, geometry=geom)\n",
    "phys_air_internal = op.physics.GenericPhysics(network=pn, phase=air, geometry=geom)\n",
    "phys_water_boundary = op.physics.GenericPhysics(network=pn, phase=water, geometry=boun)\n",
    "phys_air_boundary = op.physics.GenericPhysics(network=pn, phase=air, geometry=boun)"
   ]
  },
  {
   "cell_type": "markdown",
   "metadata": {},
   "source": [
    "> To reiterate, *one* **Physics** object is required for each **Geometry** *AND* each **Phase**, so the number can grow to become annoying very quickly  Some useful tips for easing this situation are given below."
   ]
  },
  {
   "cell_type": "markdown",
   "metadata": {},
   "source": [
    "### Create a Custom Pore-Scale Physics Model\n",
    "\n",
    "Perhaps the most distinguishing feature between pore-network modeling papers is the pore-scale physics models employed.  Accordingly, OpenPNM was designed to allow for easy customization in this regard, so that you can create your own models to augment or replace the ones included in the OpenPNM *models* libraries.  For demonstration, let's implement the capillary pressure model proposed by [Mason and Morrow in 1994](http://dx.doi.org/10.1006/jcis.1994.1402).  They studied the entry pressure of non-wetting fluid into a throat formed by spheres, and found that the converging-diverging geometry increased the capillary pressure required to penetrate the throat.  As a simple approximation they proposed $P_c = -2 \\sigma \\cdot cos(2/3 \\theta) / R_t$\n",
    "\n",
    "Pore-scale models are written as basic function definitions:"
   ]
  },
  {
   "cell_type": "code",
   "execution_count": 14,
   "metadata": {},
   "outputs": [],
   "source": [
    "def mason_model(target, diameter='throat.diameter', theta='throat.contact_angle', \n",
    "                sigma='throat.surface_tension', f=0.6667):\n",
    "    proj = target.project\n",
    "    network = proj.network\n",
    "    phase = proj.find_phase(target)\n",
    "    Dt = network[diameter]\n",
    "    theta = phase[theta]\n",
    "    sigma = phase[sigma]\n",
    "    Pc = 4*sigma*sp.cos(f*sp.deg2rad(theta))/Dt\n",
    "    return Pc[phase.throats(target.name)]"
   ]
  },
  {
   "cell_type": "markdown",
   "metadata": {},
   "source": [
    "Let's examine the components of above code:\n",
    "\n",
    "* The function receives a ``target`` object as an argument.  This indicates which object the results will be returned to. \n",
    "* The ``f`` value is a scale factor that is applied to the contact angle.  Mason and Morrow suggested a value of 2/3 as a decent fit to the data, but we'll make this an adjustable parameter with 2/3 as the default.\n",
    "* Note the ``pore.diameter`` is actually a **Geometry** property, but it is retrieved via the network using the data exchange rules outlined in the second tutorial.\n",
    "* All of the calculations are done for every throat in the network, but this pore-scale model may be assigned to a ``target`` like a **Physics** object, that is a subset of the full domain.  As such, the last line extracts values from the ``Pc`` array for the location of ``target`` and returns just the subset.\n",
    "* The actual values of the contact angle, surface tension, and throat diameter are NOT sent in as numerical arrays, but rather as dictionary keys to the arrays.  There is one very important reason for this: if arrays had been sent, then re-running the model would use the same arrays and hence not use any updated values.  By having access to dictionary keys, the model actually looks up the current values in each of the arrays whenever it is run.\n",
    "* It is good practice to include the dictionary keys as arguments, such as ``sigma = 'throat.contact_angle'``.  This way the user can control where the contact angle could be stored on the ``target`` object."
   ]
  },
  {
   "cell_type": "markdown",
   "metadata": {},
   "source": [
    "### Copy Models Between Physics Objects\n",
    "\n",
    "As mentioned above, the need to specify a separate **Physics** object for each **Geometry** and **Phase** can become tedious.  It is possible to *copy* the pore-scale models assigned to one object onto another object.  First, let's assign the models we need to ``phys_water_internal``:"
   ]
  },
  {
   "cell_type": "code",
   "execution_count": 15,
   "metadata": {},
   "outputs": [],
   "source": [
    "mod = op.models.physics.hydraulic_conductance.hagen_poiseuille\n",
    "phys_water_internal.add_model(propname='throat.hydraulic_conductance',\n",
    "                              model=mod)"
   ]
  },
  {
   "cell_type": "code",
   "execution_count": 16,
   "metadata": {},
   "outputs": [],
   "source": [
    "phys_water_internal.add_model(propname='throat.entry_pressure',\n",
    "                              model=mason_model)"
   ]
  },
  {
   "cell_type": "markdown",
   "metadata": {},
   "source": [
    "Now make a copy of the ``models`` on ``phys_water_internal`` and apply it all the other water **Physics** objects:"
   ]
  },
  {
   "cell_type": "code",
   "execution_count": 17,
   "metadata": {},
   "outputs": [],
   "source": [
    "phys_water_boundary.models = phys_water_internal.models"
   ]
  },
  {
   "cell_type": "markdown",
   "metadata": {},
   "source": [
    "The only 'gotcha' with this approach is that each of the **Physics** objects must be *regenerated* in order to place numerical values for all the properties into the data arrays:"
   ]
  },
  {
   "cell_type": "code",
   "execution_count": 18,
   "metadata": {},
   "outputs": [],
   "source": [
    "phys_water_boundary.regenerate_models()\n",
    "phys_air_internal.regenerate_models()\n",
    "phys_air_internal.regenerate_models()"
   ]
  },
  {
   "cell_type": "markdown",
   "metadata": {},
   "source": [
    "### Adjust Pore-Scale Model Parameters\n",
    "\n",
    "The pore-scale models are stored in a **ModelsDict** object that is itself stored under the ``models`` attribute of each object.  This arrangement is somewhat convoluted, but it enables integrated storage of models on the object's wo which they apply.  The models on an object can be inspected with ``print(phys_water_internal)``, which shows a list of all the pore-scale properties that are computed by a model, and some information about the model's *regeneration* mode.\n",
    "\n",
    "Each model in the **ModelsDict** can be individually inspected by accessing it using the dictionary key corresponding to *pore-property* that it calculates, i.e. ``print(phys_water_internal)['throat.capillary_pressure'])``.  This shows a list of all the parameters associated with that model.  It is possible to edit these parameters directly:"
   ]
  },
  {
   "cell_type": "code",
   "execution_count": 19,
   "metadata": {},
   "outputs": [],
   "source": [
    "phys_water_internal.models['throat.entry_pressure']['f'] = 0.75  # Change value\n",
    "phys_water_internal.regenerate_models()  # Regenerate model with new 'f' value"
   ]
  },
  {
   "cell_type": "markdown",
   "metadata": {},
   "source": [
    "More details about the **ModelsDict** and **ModelWrapper** classes can be found in :ref:`models`.\n",
    "\n",
    "## Perform Multiphase Transport Simulations\n",
    "\n",
    "### Use the Built-In Drainage Algorithm to Generate an Invading Phase Configuration"
   ]
  },
  {
   "cell_type": "code",
   "execution_count": 20,
   "metadata": {},
   "outputs": [],
   "source": [
    "inv = op.algorithms.Porosimetry(network=pn)\n",
    "inv.setup(phase=water)\n",
    "inv.set_inlets(pores=pn.pores(['top', 'bottom']))\n",
    "inv.run()"
   ]
  },
  {
   "cell_type": "markdown",
   "metadata": {},
   "source": [
    "* The inlet pores were set to both ``'top'`` and ``'bottom'`` using the ``pn.pores`` method.  The algorithm applies to the entire network so the mapping of network pores to the algorithm pores is 1-to-1.\n",
    "* The ``run`` method automatically generates a list of 25 capillary pressure points to test, but you can also specify more pores, or which specific points to tests.  See the methods documentation for the details.\n",
    "* Once the algorithm has been run, the resulting capillary pressure curve can be viewed with ``plot_drainage_curve``.  If you'd prefer a table of data for plotting in your software of choice you can use ``get_drainage_data`` which prints a table in the console."
   ]
  },
  {
   "cell_type": "markdown",
   "metadata": {},
   "source": [
    "### Set Pores and Throats to Invaded\n",
    "\n",
    "After running, the ``mip`` object possesses an array containing the pressure at which each pore and throat was invaded, stored as ``'pore.inv_Pc'`` and ``'throat.inv_Pc'``.  These arrays can be used to obtain a list of which pores and throats are invaded by water, using Boolean logic:"
   ]
  },
  {
   "cell_type": "code",
   "execution_count": 21,
   "metadata": {},
   "outputs": [],
   "source": [
    "Pi = inv['pore.invasion_pressure'] < 5000\n",
    "Ti = inv['throat.invasion_pressure'] < 5000"
   ]
  },
  {
   "cell_type": "markdown",
   "metadata": {},
   "source": [
    "The resulting Boolean masks can be used to manually adjust the hydraulic conductivity of pores and throats based on their phase occupancy.  The following lines set the water filled throats to near-zero conductivity for air flow:"
   ]
  },
  {
   "cell_type": "code",
   "execution_count": 22,
   "metadata": {},
   "outputs": [],
   "source": [
    "Ts = phys_water_internal.map_throats(~Ti, origin=water)\n",
    "phys_water_internal['throat.hydraulic_conductance'][Ts] = 1e-20"
   ]
  },
  {
   "cell_type": "markdown",
   "metadata": {},
   "source": [
    "* The logic of these statements implicitly assumes that transport between two pores is only blocked if the throat is filled with the other phase, meaning that both pores could be filled and transport is still permitted.  Another option would be to set the transport to near-zero if *either* or *both* of the pores are filled as well.\n",
    "* The above approach can get complicated if there are several **Geometry** objects, and it is also a bit laborious.  There is a pore-scale model for this under **Physics.models.multiphase** called ``conduit_conductance``.  The term conduit refers to the path between two pores that includes 1/2 of each pores plus the connecting throat."
   ]
  },
  {
   "cell_type": "markdown",
   "metadata": {},
   "source": [
    "### Calculate Relative Permeability of Each Phase\n",
    "\n",
    "We are now ready to calculate the relative permeability of the domain under partially flooded conditions.  Instantiate an **StokesFlow** object:"
   ]
  },
  {
   "cell_type": "code",
   "execution_count": 23,
   "metadata": {},
   "outputs": [],
   "source": [
    "water_flow = op.algorithms.StokesFlow(network=pn, phase=water)\n",
    "water_flow.set_value_BC(pores=pn.pores('left'), values=200000)\n",
    "water_flow.set_value_BC(pores=pn.pores('right'), values=100000)\n",
    "water_flow.run()\n",
    "Q_partial = water_flow.rate(pores=pn.pores('right'))"
   ]
  },
  {
   "cell_type": "markdown",
   "metadata": {},
   "source": [
    "The *relative* permeability is the ratio of the water flow through the partially water saturated media versus through fully water saturated media; hence we need to find the absolute permeability of water.  This can be accomplished by *regenerating* the ``phys_water_internal`` object, which will recalculate the ``'throat.hydraulic_conductance'`` values and overwrite our manually entered near-zero values from the ``inv`` simulation using ``phys_water_internal.models.regenerate()``.  We can then re-use the ``water_flow`` algorithm:"
   ]
  },
  {
   "cell_type": "code",
   "execution_count": 24,
   "metadata": {},
   "outputs": [],
   "source": [
    "phys_water_internal.regenerate_models()\n",
    "water_flow.run()\n",
    "Q_full = water_flow.rate(pores=pn.pores('right'))"
   ]
  },
  {
   "cell_type": "markdown",
   "metadata": {},
   "source": [
    "And finally, the relative permeability can be found from:"
   ]
  },
  {
   "cell_type": "code",
   "execution_count": 25,
   "metadata": {},
   "outputs": [
    {
     "name": "stdout",
     "output_type": "stream",
     "text": [
      "[nan]\n"
     ]
    }
   ],
   "source": [
    "K_rel = Q_partial/Q_full\n",
    "print(K_rel)"
   ]
  },
  {
   "cell_type": "markdown",
   "metadata": {},
   "source": [
    "* The ratio of the flow rates gives the normalized relative permeability since all the domain size, viscosity and pressure differential terms cancel each other.\n",
    "* To generate a full relative permeability curve the above logic would be placed inside a for loop, with each loop increasing the pressure threshold used to obtain the list of invaded throats (``Ti``).\n",
    "* The saturation at each capillary pressure can be found be summing the pore and throat volume of all the invaded pores and throats using ``Vp = geom['pore.volume'][Pi]`` and ``Vt = geom['throat.volume'][Ti]``."
   ]
  },
  {
   "cell_type": "code",
   "execution_count": null,
   "metadata": {},
   "outputs": [],
   "source": []
  }
 ],
 "metadata": {
  "kernelspec": {
   "display_name": "Python 3",
   "language": "python",
   "name": "python3"
  },
  "language_info": {
   "codemirror_mode": {
    "name": "ipython",
    "version": 3
   },
   "file_extension": ".py",
   "mimetype": "text/x-python",
   "name": "python",
   "nbconvert_exporter": "python",
   "pygments_lexer": "ipython3",
   "version": "3.7.3"
  }
 },
 "nbformat": 4,
 "nbformat_minor": 2
}
